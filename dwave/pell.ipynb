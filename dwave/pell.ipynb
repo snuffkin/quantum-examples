{
 "cells": [
  {
   "cell_type": "markdown",
   "metadata": {},
   "source": [
    "# Pell方程式"
   ]
  },
  {
   "cell_type": "code",
   "execution_count": 1,
   "metadata": {},
   "outputs": [
    {
     "data": {
      "image/png": "[encoded data removed]",
      "text/latex": [
       "$$D^{2} y_{0}^{4} + 8 D^{2} y_{0}^{3} y_{1} + 24 D^{2} y_{0}^{2} y_{1}^{2} + 32 D^{2} y_{0} y_{1}^{3} + 16 D^{2} y_{1}^{4} - 2 D x_{0}^{2} y_{0}^{2} - 8 D x_{0}^{2} y_{0} y_{1} - 8 D x_{0}^{2} y_{1}^{2} - 8 D x_{0} x_{1} y_{0}^{2} - 32 D x_{0} x_{1} y_{0} y_{1} - 32 D x_{0} x_{1} y_{1}^{2} - 8 D x_{1}^{2} y_{0}^{2} - 32 D x_{1}^{2} y_{0} y_{1} - 32 D x_{1}^{2} y_{1}^{2} + 2 D y_{0}^{2} + 8 D y_{0} y_{1} + 8 D y_{1}^{2} + x_{0}^{4} + 8 x_{0}^{3} x_{1} + 24 x_{0}^{2} x_{1}^{2} - 2 x_{0}^{2} + 32 x_{0} x_{1}^{3} - 8 x_{0} x_{1} + 16 x_{1}^{4} - 8 x_{1}^{2} + 1$$"
      ],
      "text/plain": [
       " 2   4      2   3          2   2   2       2      3       2   4         2   2 \n",
       "D ⋅y₀  + 8⋅D ⋅y₀ ⋅y₁ + 24⋅D ⋅y₀ ⋅y₁  + 32⋅D ⋅y₀⋅y₁  + 16⋅D ⋅y₁  - 2⋅D⋅x₀ ⋅y₀  \n",
       "\n",
       "        2               2   2               2                                 \n",
       "- 8⋅D⋅x₀ ⋅y₀⋅y₁ - 8⋅D⋅x₀ ⋅y₁  - 8⋅D⋅x₀⋅x₁⋅y₀  - 32⋅D⋅x₀⋅x₁⋅y₀⋅y₁ - 32⋅D⋅x₀⋅x₁⋅\n",
       "\n",
       "  2         2   2          2                2   2         2                   \n",
       "y₁  - 8⋅D⋅x₁ ⋅y₀  - 32⋅D⋅x₁ ⋅y₀⋅y₁ - 32⋅D⋅x₁ ⋅y₁  + 2⋅D⋅y₀  + 8⋅D⋅y₀⋅y₁ + 8⋅D⋅\n",
       "\n",
       "  2     4       3           2   2       2           3                  4      \n",
       "y₁  + x₀  + 8⋅x₀ ⋅x₁ + 24⋅x₀ ⋅x₁  - 2⋅x₀  + 32⋅x₀⋅x₁  - 8⋅x₀⋅x₁ + 16⋅x₁  - 8⋅x\n",
       "\n",
       " 2    \n",
       "₁  + 1"
      ]
     },
     "execution_count": 1,
     "metadata": {},
     "output_type": "execute_result"
    }
   ],
   "source": [
    "import sympy\n",
    "sympy.init_printing(use_latex=True)\n",
    "\n",
    "sympy.var('D x0 x1 y0 y1')\n",
    "x = x0 + 2*x1\n",
    "y = y0 + 2*y1\n",
    "f = (x**2 - D*y**2 -1)**2\n",
    "sympy.expand(f)\n",
    "#sympy.latex(sympy.expand(f))"
   ]
  },
  {
   "cell_type": "markdown",
   "metadata": {},
   "source": [
    "# グレブナー基底を確認しておく"
   ]
  },
  {
   "cell_type": "code",
   "execution_count": 2,
   "metadata": {},
   "outputs": [
    {
     "data": {
      "image/png": "[encoded data removed]",
      "text/latex": [
       "$$GroebnerBasis([x0**2 - x0, x1**2 - x1, y0**2 - y0, y1**2 - y1], x0, x1, y0, y1, domain='ZZ', order='lex')$$"
      ],
      "text/plain": [
       "             ⎛⎡  2         2         2         2     ⎤                        \n",
       "GroebnerBasis⎝⎣x₀  - x₀, x₁  - x₁, y₀  - y₀, y₁  - y₁⎦, x₀, x₁, y₀, y₁, domain\n",
       "\n",
       "             ⎞\n",
       "=ℤ, order=lex⎠"
      ]
     },
     "execution_count": 2,
     "metadata": {},
     "output_type": "execute_result"
    }
   ],
   "source": [
    "sympy.groebner([x0**2-x0, x1**2-x1, y0**2-y0, y1**2-y1], x0, x1, y0, y1)"
   ]
  },
  {
   "cell_type": "markdown",
   "metadata": {},
   "source": [
    "# グレブナー基底を使った次数の簡約"
   ]
  },
  {
   "cell_type": "code",
   "execution_count": 3,
   "metadata": {},
   "outputs": [
    {
     "data": {
      "image/png": "[encoded data removed]",
      "text/latex": [
       "$$64 D^{2} y_{0} y_{1} + D^{2} y_{0} + 16 D^{2} y_{1} - 32 D x_{0} x_{1} y_{0} y_{1} - 8 D x_{0} x_{1} y_{0} - 32 D x_{0} x_{1} y_{1} - 8 D x_{0} y_{0} y_{1} - 2 D x_{0} y_{0} - 8 D x_{0} y_{1} - 32 D x_{1} y_{0} y_{1} - 8 D x_{1} y_{0} - 32 D x_{1} y_{1} + 8 D y_{0} y_{1} + 2 D y_{0} + 8 D y_{1} + 56 x_{0} x_{1} - x_{0} + 8 x_{1} + 1$$"
      ],
      "text/plain": [
       "    2          2          2                                                   \n",
       "64⋅D ⋅y₀⋅y₁ + D ⋅y₀ + 16⋅D ⋅y₁ - 32⋅D⋅x₀⋅x₁⋅y₀⋅y₁ - 8⋅D⋅x₀⋅x₁⋅y₀ - 32⋅D⋅x₀⋅x₁⋅\n",
       "\n",
       "                                                                              \n",
       "y₁ - 8⋅D⋅x₀⋅y₀⋅y₁ - 2⋅D⋅x₀⋅y₀ - 8⋅D⋅x₀⋅y₁ - 32⋅D⋅x₁⋅y₀⋅y₁ - 8⋅D⋅x₁⋅y₀ - 32⋅D⋅x\n",
       "\n",
       "                                                             \n",
       "₁⋅y₁ + 8⋅D⋅y₀⋅y₁ + 2⋅D⋅y₀ + 8⋅D⋅y₁ + 56⋅x₀⋅x₁ - x₀ + 8⋅x₁ + 1"
      ]
     },
     "execution_count": 3,
     "metadata": {},
     "output_type": "execute_result"
    }
   ],
   "source": [
    "f = sympy.rem(f, x0**2-x0, x0)\n",
    "f = sympy.rem(f, x1**2-x1, x1)\n",
    "f = sympy.rem(f, y0**2-y0, y0)\n",
    "f = sympy.rem(f, y1**2-y1, y1)\n",
    "sympy.expand(f)\n",
    "#sympy.latex(sympy.expand(f))"
   ]
  },
  {
   "cell_type": "markdown",
   "metadata": {},
   "source": [
    "# 3変数以上の項を簡約"
   ]
  },
  {
   "cell_type": "markdown",
   "metadata": {},
   "source": [
    "まずは4次式でのHを求める"
   ]
  },
  {
   "cell_type": "code",
   "execution_count": 4,
   "metadata": {},
   "outputs": [
    {
     "data": {
      "image/png": "[encoded data removed]",
      "text/latex": [
       "$$L x_{0} x_{1} - 2 L x_{0} z_{0} - 2 L x_{1} z_{0} + L y_{0} z_{0} - 2 L y_{0} z_{1} - 2 L z_{0} z_{1} + 3 L z_{0} + 3 L z_{1} + y_{1} z_{1}$$"
      ],
      "text/plain": [
       "L⋅x₀⋅x₁ - 2⋅L⋅x₀⋅z₀ - 2⋅L⋅x₁⋅z₀ + L⋅y₀⋅z₀ - 2⋅L⋅y₀⋅z₁ - 2⋅L⋅z₀⋅z₁ + 3⋅L⋅z₀ + 3\n",
       "⋅L⋅z₁ + y₁⋅z₁"
      ]
     },
     "execution_count": 4,
     "metadata": {},
     "output_type": "execute_result"
    }
   ],
   "source": [
    "sympy.var('L a b c')\n",
    "Hc = L*(a*b -2*(a+b)*c +3*c)\n",
    "sympy.var('z0 z1')\n",
    "H = z1*y1 + Hc.subs([(a, x0), (b, x1), (c, z0)]) + Hc.subs([(a, z0), (b, y0), (c, z1)])\n",
    "sympy.expand(H)\n",
    "#sympy.latex(sympy.expand(H))"
   ]
  },
  {
   "cell_type": "markdown",
   "metadata": {},
   "source": [
    "3次式を求める"
   ]
  },
  {
   "cell_type": "code",
   "execution_count": 5,
   "metadata": {},
   "outputs": [
    {
     "data": {
      "image/png": "[encoded data removed]",
      "text/latex": [
       "$$L x_{0} x_{1} - 2 L x_{0} z_{0} - 2 L x_{1} z_{0} + L y_{0} z_{0} - 2 L y_{0} z_{1} - 2 L z_{0} z_{1} + 3 L z_{0} + 3 L z_{1} + z_{1}$$"
      ],
      "text/plain": [
       "L⋅x₀⋅x₁ - 2⋅L⋅x₀⋅z₀ - 2⋅L⋅x₁⋅z₀ + L⋅y₀⋅z₀ - 2⋅L⋅y₀⋅z₁ - 2⋅L⋅z₀⋅z₁ + 3⋅L⋅z₀ + 3\n",
       "⋅L⋅z₁ + z₁"
      ]
     },
     "execution_count": 5,
     "metadata": {},
     "output_type": "execute_result"
    }
   ],
   "source": [
    "x0x1y0 = H.subs([(y1, 1)])\n",
    "sympy.expand(x0x1y0)\n",
    "#sympy.latex(sympy.expand(x0x1y0))"
   ]
  },
  {
   "cell_type": "code",
   "execution_count": 6,
   "metadata": {},
   "outputs": [
    {
     "data": {
      "image/png": "[encoded data removed]",
      "text/latex": [
       "$$L x_{0} x_{1} - 2 L x_{0} z_{0} - 2 L x_{1} z_{0} - 2 L z_{0} z_{1} + 4 L z_{0} + L z_{1} + y_{1} z_{1}$$"
      ],
      "text/plain": [
       "L⋅x₀⋅x₁ - 2⋅L⋅x₀⋅z₀ - 2⋅L⋅x₁⋅z₀ - 2⋅L⋅z₀⋅z₁ + 4⋅L⋅z₀ + L⋅z₁ + y₁⋅z₁"
      ]
     },
     "execution_count": 6,
     "metadata": {},
     "output_type": "execute_result"
    }
   ],
   "source": [
    "x0x1y1 = H.subs([(y0, 1)])\n",
    "sympy.expand(x0x1y1)\n",
    "#sympy.latex(sympy.expand(x0x1y1))"
   ]
  },
  {
   "cell_type": "code",
   "execution_count": 7,
   "metadata": {},
   "outputs": [
    {
     "data": {
      "image/png": "[encoded data removed]",
      "text/latex": [
       "$$- 2 L x_{0} z_{0} + L x_{0} + L y_{0} z_{0} - 2 L y_{0} z_{1} - 2 L z_{0} z_{1} + L z_{0} + 3 L z_{1} + y_{1} z_{1}$$"
      ],
      "text/plain": [
       "-2⋅L⋅x₀⋅z₀ + L⋅x₀ + L⋅y₀⋅z₀ - 2⋅L⋅y₀⋅z₁ - 2⋅L⋅z₀⋅z₁ + L⋅z₀ + 3⋅L⋅z₁ + y₁⋅z₁"
      ]
     },
     "execution_count": 7,
     "metadata": {},
     "output_type": "execute_result"
    }
   ],
   "source": [
    "x0y0y1 = H.subs([(x1, 1)])\n",
    "sympy.expand(x0y0y1)\n",
    "#sympy.latex(sympy.expand(x0y0y1))"
   ]
  },
  {
   "cell_type": "code",
   "execution_count": 8,
   "metadata": {},
   "outputs": [
    {
     "data": {
      "image/png": "[encoded data removed]",
      "text/latex": [
       "$$- 2 L x_{1} z_{0} + L x_{1} + L y_{0} z_{0} - 2 L y_{0} z_{1} - 2 L z_{0} z_{1} + L z_{0} + 3 L z_{1} + y_{1} z_{1}$$"
      ],
      "text/plain": [
       "-2⋅L⋅x₁⋅z₀ + L⋅x₁ + L⋅y₀⋅z₀ - 2⋅L⋅y₀⋅z₁ - 2⋅L⋅z₀⋅z₁ + L⋅z₀ + 3⋅L⋅z₁ + y₁⋅z₁"
      ]
     },
     "execution_count": 8,
     "metadata": {},
     "output_type": "execute_result"
    }
   ],
   "source": [
    "x1y0y1 = H.subs([(x0, 1)])\n",
    "sympy.expand(x1y0y1)\n",
    "#sympy.latex(sympy.expand(x1y0y1))"
   ]
  },
  {
   "cell_type": "markdown",
   "metadata": {},
   "source": [
    "4次の項を消去"
   ]
  },
  {
   "cell_type": "code",
   "execution_count": 9,
   "metadata": {},
   "outputs": [
    {
     "data": {
      "image/png": "[encoded data removed]",
      "text/latex": [
       "$$\\operatorname{Poly}{\\left( 64 D^{2} y_{0} y_{1} + D^{2} y_{0} + 16 D^{2} y_{1} - 32 D L x_{0} x_{1} + 64 D L x_{0} z_{0} + 64 D L x_{1} z_{0} - 32 D L y_{0} z_{0} + 64 D L y_{0} z_{1} + 64 D L z_{0} z_{1} - 96 D L z_{0} - 96 D L z_{1} - 8 D x_{0} x_{1} y_{0} - 32 D x_{0} x_{1} y_{1} - 8 D x_{0} y_{0} y_{1} - 2 D x_{0} y_{0} - 8 D x_{0} y_{1} - 32 D x_{1} y_{0} y_{1} - 8 D x_{1} y_{0} - 32 D x_{1} y_{1} + 8 D y_{0} y_{1} + 2 D y_{0} - 32 D y_{1} z_{1} + 8 D y_{1} + 56 x_{0} x_{1} - x_{0} + 8 x_{1} + 1, x_{0}, x_{1}, y_{0}, y_{1}, z_{0}, z_{1}, D, L, domain=\\mathbb{Z} \\right)}$$"
      ],
      "text/plain": [
       "Poly(-8*x0*x1*y0*D - 32*x0*x1*y1*D - 32*x0*x1*D*L + 56*x0*x1 - 8*x0*y0*y1*D - \n",
       "2*x0*y0*D - 8*x0*y1*D + 64*x0*z0*D*L - x0 - 32*x1*y0*y1*D - 8*x1*y0*D - 32*x1*\n",
       "y1*D + 64*x1*z0*D*L + 8*x1 + 64*y0*y1*D**2 + 8*y0*y1*D - 32*y0*z0*D*L + 64*y0*\n",
       "z1*D*L + y0*D**2 + 2*y0*D - 32*y1*z1*D + 16*y1*D**2 + 8*y1*D + 64*z0*z1*D*L - \n",
       "96*z0*D*L - 96*z1*D*L + 1, x0, x1, y0, y1, z0, z1, D, L, domain='ZZ')"
      ]
     },
     "execution_count": 9,
     "metadata": {},
     "output_type": "execute_result"
    }
   ],
   "source": [
    "f = sympy.poly(f, x0, x1, y0, y1)\n",
    "f3deg = f + (f.coeff_monomial(x0*x1*y0*y1)*H - f.coeff_monomial(x0*x1*y0*y1)*x0*x1*y0*y1)\n",
    "sympy.expand(f3deg)\n",
    "#sympy.latex(sympy.expand(f3deg))"
   ]
  },
  {
   "cell_type": "markdown",
   "metadata": {},
   "source": [
    "3次の項を消去"
   ]
  },
  {
   "cell_type": "code",
   "execution_count": 10,
   "metadata": {},
   "outputs": [
    {
     "data": {
      "image/png": "[encoded data removed]",
      "text/latex": [
       "$$\\operatorname{Poly}{\\left( 64 D^{2} y_{0} y_{1} + D^{2} y_{0} + 16 D^{2} y_{1} - 72 D L x_{0} x_{1} + 160 D L x_{0} z_{0} - 8 D L x_{0} + 208 D L x_{1} z_{0} - 32 D L x_{1} - 80 D L y_{0} z_{0} + 160 D L y_{0} z_{1} + 224 D L z_{0} z_{1} - 288 D L z_{0} - 272 D L z_{1} - 2 D x_{0} y_{0} - 8 D x_{0} y_{1} - 8 D x_{1} y_{0} - 32 D x_{1} y_{1} + 8 D y_{0} y_{1} + 2 D y_{0} - 104 D y_{1} z_{1} + 8 D y_{1} - 8 D z_{1} + 56 x_{0} x_{1} - x_{0} + 8 x_{1} + 1, x_{0}, x_{1}, y_{0}, y_{1}, z_{0}, z_{1}, D, L, domain=\\mathbb{Z} \\right)}$$"
      ],
      "text/plain": [
       "Poly(-72*x0*x1*D*L + 56*x0*x1 - 2*x0*y0*D - 8*x0*y1*D + 160*x0*z0*D*L - 8*x0*D\n",
       "*L - x0 - 8*x1*y0*D - 32*x1*y1*D + 208*x1*z0*D*L - 32*x1*D*L + 8*x1 + 64*y0*y1\n",
       "*D**2 + 8*y0*y1*D - 80*y0*z0*D*L + 160*y0*z1*D*L + y0*D**2 + 2*y0*D - 104*y1*z\n",
       "1*D + 16*y1*D**2 + 8*y1*D + 224*z0*z1*D*L - 288*z0*D*L - 272*z1*D*L - 8*z1*D +\n",
       " 1, x0, x1, y0, y1, z0, z1, D, L, domain='ZZ')"
      ]
     },
     "execution_count": 10,
     "metadata": {},
     "output_type": "execute_result"
    }
   ],
   "source": [
    "f2deg = f3deg + (8*D*x0*x1*y0 - 8*D*x0x1y0) + (32*D*x0*x1*y1 - 32*D*x0x1y1) + (8*D*x0*y0*y1 - 8*D*x0y0y1) + (32*D*x1*y0*y1 - 32*D*x1y0y1)\n",
    "sympy.expand(f2deg)\n",
    "#sympy.latex(sympy.expand(f2deg))"
   ]
  },
  {
   "cell_type": "markdown",
   "metadata": {},
   "source": [
    "Dに具体的な値を代入し、QUBOを導出"
   ]
  },
  {
   "cell_type": "code",
   "execution_count": 11,
   "metadata": {},
   "outputs": [
    {
     "data": {
      "image/png": "[encoded data removed]",
      "text/latex": [
       "$$\\operatorname{Poly}{\\left( - 160 x_{0} x_{1} - 6 x_{0} y_{0} - 24 x_{0} y_{1} + 480 x_{0} z_{0} - 25 x_{0} - 24 x_{1} y_{0} - 96 x_{1} y_{1} + 624 x_{1} z_{0} - 88 x_{1} + 600 y_{0} y_{1} - 240 y_{0} z_{0} + 480 y_{0} z_{1} + 15 y_{0} - 312 y_{1} z_{1} + 168 y_{1} + 672 z_{0} z_{1} - 864 z_{0} - 840 z_{1} + 1, x_{0}, x_{1}, y_{0}, y_{1}, z_{0}, z_{1}, domain=\\mathbb{Z} \\right)}$$"
      ],
      "text/plain": [
       "Poly(-160*x0*x1 - 6*x0*y0 - 24*x0*y1 + 480*x0*z0 - 25*x0 - 24*x1*y0 - 96*x1*y1\n",
       " + 624*x1*z0 - 88*x1 + 600*y0*y1 - 240*y0*z0 + 480*y0*z1 + 15*y0 - 312*y1*z1 +\n",
       " 168*y1 + 672*z0*z1 - 864*z0 - 840*z1 + 1, x0, x1, y0, y1, z0, z1, domain='ZZ'\n",
       ")"
      ]
     },
     "execution_count": 11,
     "metadata": {},
     "output_type": "execute_result"
    }
   ],
   "source": [
    "temp = sympy.poly((sympy.poly(f2deg, D).eval(D, 3)))\n",
    "qubo = sympy.poly((sympy.poly(temp, L).eval(L, 1)))\n",
    "sympy.expand(qubo)\n",
    "#sympy.latex(sympy.expand(qubo))"
   ]
  },
  {
   "cell_type": "markdown",
   "metadata": {},
   "source": [
    "# 量子アニーリングでQUBOの解を求める"
   ]
  },
  {
   "cell_type": "code",
   "execution_count": 12,
   "metadata": {},
   "outputs": [
    {
     "name": "stdout",
     "output_type": "stream",
     "text": [
      "{x0: 1, x1: 1, y0: 0, y1: 1, z0: 0, z1: 1} \t E =  -1376.0\n"
     ]
    }
   ],
   "source": [
    "from dimod import *\n",
    "from dwave_qbsolv import QBSolv\n",
    "var_list = [x0, x1, y0, y1, z0, z1]\n",
    "\n",
    "linear = dict()\n",
    "for var1 in var_list:\n",
    "    linear[var1] = qubo.coeff_monomial(var1)\n",
    "\n",
    "quadratic = dict()\n",
    "for index, var1 in enumerate(var_list):\n",
    "    for var2 in var_list[index + 1:]:\n",
    "        quadratic[(var1, var2)] = qubo.coeff_monomial(var1*var2)\n",
    "\n",
    "bqm = BinaryQuadraticModel(linear, quadratic, qubo.coeff_monomial(1), dimod.BINARY)\n",
    "result = QBSolv().sample(bqm)\n",
    "for s, e in result.data(['sample','energy']):\n",
    "    print(s,'\\t E = ', e)"
   ]
  }
 ],
 "metadata": {
  "kernelspec": {
   "display_name": "Python 3",
   "language": "python",
   "name": "python3"
  },
  "language_info": {
   "codemirror_mode": {
    "name": "ipython",
    "version": 3
   },
   "file_extension": ".py",
   "mimetype": "text/x-python",
   "name": "python",
   "nbconvert_exporter": "python",
   "pygments_lexer": "ipython3",
   "version": "3.6.4"
  }
 },
 "nbformat": 4,
 "nbformat_minor": 2
}
